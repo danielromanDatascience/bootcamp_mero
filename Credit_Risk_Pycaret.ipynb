{
  "cells": [
    {
      "cell_type": "markdown",
      "metadata": {},
      "source": [
        "# Predicting Credit Risk with Pycaret\n",
        "This notebook demonstrates a complete machine learning pipeline to classify credit risk. The dataset referenced in the Kaggle kernel (`kabure/predicting-credit-risk-model-pipeline`) is assumed to be downloaded locally as `credit_risk_dataset.csv`.\n"
      ]
    },
    {
      "cell_type": "markdown",
      "metadata": {},
      "source": [
        "## 1. Install and Import Dependencies"
      ]
    },
    {
      "cell_type": "code",
      "metadata": {},
      "source": [
        "# Uncomment the next line if running in a fresh environment\n",
        "# !pip install pycaret[full] -q\n",
        "import pandas as pd\n",
        "from pycaret.classification import *\n"
      ]
    },
    {
      "cell_type": "markdown",
      "metadata": {},
      "source": [
        "## 2. Load Data"
      ]
    },
    {
      "cell_type": "code",
      "metadata": {},
      "source": [
        "df = pd.read_csv('credit_risk_dataset.csv')\n",
        "df.head()"
      ]
    },
    {
      "cell_type": "markdown",
      "metadata": {},
      "source": [
        "## 3. Initialize Pycaret Experiment"
      ]
    },
    {
      "cell_type": "code",
      "metadata": {},
      "source": [
        "s = setup(df, target='target', session_id=123, normalize=True, silent=True)\n"
      ]
    },
    {
      "cell_type": "markdown",
      "metadata": {},
      "source": [
        "## 4. Compare Baseline Models"
      ]
    },
    {
      "cell_type": "code",
      "metadata": {},
      "source": [
        "best_model = compare_models()\n",
        "best_model"
      ]
    },
    {
      "cell_type": "markdown",
      "metadata": {},
      "source": [
        "## 5. Tune the Best Model"
      ]
    },
    {
      "cell_type": "code",
      "metadata": {},
      "source": [
        "tuned_model = tune_model(best_model)\n",
        "tuned_model"
      ]
    },
    {
      "cell_type": "markdown",
      "metadata": {},
      "source": [
        "## 6. Evaluate the Tuned Model"
      ]
    },
    {
      "cell_type": "code",
      "metadata": {},
      "source": [
        "evaluate_model(tuned_model)"
      ]
    },
    {
      "cell_type": "markdown",
      "metadata": {},
      "source": [
        "## 7. Finalize and Save Model"
      ]
    },
    {
      "cell_type": "code",
      "metadata": {},
      "source": [
        "final_model = finalize_model(tuned_model)\n",
        "save_model(final_model, 'credit_risk_model')\n"
      ]
    }
  ],
  "metadata": {
    "kernelspec": {
      "display_name": "Python 3",
      "language": "python",
      "name": "python3"
    },
    "language_info": {
      "name": "python",
      "version": "3.11.12"
    }
  },
  "nbformat": 4,
  "nbformat_minor": 4
}
